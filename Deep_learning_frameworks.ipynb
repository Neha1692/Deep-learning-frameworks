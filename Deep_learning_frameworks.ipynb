{
  "nbformat": 4,
  "nbformat_minor": 0,
  "metadata": {
    "colab": {
      "provenance": []
    },
    "kernelspec": {
      "name": "python3",
      "display_name": "Python 3"
    },
    "language_info": {
      "name": "python"
    }
  },
  "cells": [
    {
      "cell_type": "code",
      "execution_count": null,
      "metadata": {
        "id": "-qnTbvzXzmSH"
      },
      "outputs": [],
      "source": []
    },
    {
      "cell_type": "markdown",
      "source": [
        "Q1. What is TensorFlow 2.0, and how is it different from TensorFlow 1.x?\n",
        "\n",
        "Ans-TensorFlow 2.0 is a major upgrade to TensorFlow, designed to be more user-friendly and intuitive.\n",
        "Key differences:\n",
        "\n",
        "Eager execution is enabled by default (operations run immediately).\n",
        "\n",
        "Keras is integrated as the high-level API (tf.keras).\n",
        "\n",
        "Removed redundant APIs and deprecated code.\n",
        "\n",
        "Better support for Pythonic functions (tf.function).\n",
        "\n",
        "Improved model building and debugging.\n",
        "\n",
        "Q2.How do you install TensorFlow 2.0?\n",
        "\n",
        "Ans-Use the following command:\n",
        "\n",
        "pip install tensorflow\n",
        "\n",
        "Q 3. What is the primary function of the tf.function in TensorFlow 2.0?\n",
        "\n",
        "Ans-tf.function transforms a Python function into a TensorFlow graph for faster execution.\n",
        "It improves performance by compiling functions and enabling graph optimizations.\n",
        "\n",
        "Q 4. What is the purpose of the Model class in TensorFlow 2.0?\n",
        "\n",
        "Ans-The Model class (from tf.keras.Model) provides a base class for defining and training models.\n",
        "It supports:\n",
        "\n",
        "Custom model architecture\n",
        "\n",
        "Built-in training loops (with .compile() and .fit())\n",
        "\n",
        "Evaluation and prediction\n",
        "\n",
        "Q5. How do you create a neural network using TensorFlow 2.0?\n",
        "\n",
        "Ans-Example using tf.keras.Sequential:\n",
        "\n",
        "import tensorflow as tf\n",
        "\n",
        "model = tf.keras.Sequential([\n",
        "    tf.keras.layers.Dense(64, activation='relu', input_shape=(input_dim,)),\n",
        "    tf.keras.layers.Dense(1, activation='sigmoid')\n",
        "])\n",
        "model.compile(optimizer='adam', loss='binary_crossentropy', metrics=['accuracy'])\n",
        "model.fit(X_train, y_train, epochs=10)\n",
        "\n",
        "Q6. What is the importance of Tensor Space in TensorFlow?\n",
        "\n",
        "Ans-Tensor space refers to the multi-dimensional data structure (tensors) used to represent data.\n",
        "Importance:\n",
        "\n",
        "Efficient computation on GPUs\n",
        "\n",
        "Represents data and model parameters\n",
        "\n",
        "Foundation of TensorFlow operations\n",
        "\n",
        "Q7. How can TensorBoard be integrated with TensorFlow 2.0?\n",
        "\n",
        "Ans-TensorBoard is integrated using callbacks:\n",
        "\n",
        "tensorboard_callback = tf.keras.callbacks.TensorBoard(log_dir='./logs')\n",
        "model.fit(X_train, y_train, epochs=10, callbacks=[tensorboard_callback])\n",
        "Then run:\n",
        "tensorboard --logdir=./logs\n",
        "\n",
        "Q8. What is the purpose of TensorFlow Playground?\n",
        "\n",
        "Ans-TensorFlow Playground is a web-based tool to visualize and experiment with neural networks.\n",
        "It allows users to:\n",
        "\n",
        "Adjust layer structure, activation functions, data noise\n",
        "\n",
        "Q 9. What is Netron, and how is it useful for deep learning models?\n",
        "\n",
        "Ans-Netron is a viewer for neural network, deep learning, and machine learning models.\n",
        "Uses:\n",
        "\n",
        "Visualizes model architecture (e.g., .pb, .h5, .onnx)\n",
        "\n",
        "Helps in debugging and understanding structure\n",
        "\n",
        "Q10. What is the difference between TensorFlow and PyTorch?\n",
        "\n",
        "Ans- PyTorch emphasizes dynamic computation graphs, making it more flexible and intuitive for research and rapid prototyping. TensorFlow, with its static graphs, is often favored for production deployments due to its optimization capabilities and deployment tools.\n",
        "\n",
        "Q11. 11. How do you install PyTorch?\n",
        "\n",
        "Ans-Visit https://pytorch.org and select your OS, package manager, and Python version.\n",
        "\n",
        "Example (for CPU version via pip):\n",
        "\n",
        "pip install torch torchvision torchaudio\n",
        "\n",
        "To verify installation:\n",
        "\n",
        "import torch\n",
        "print(torch.__version__)\n",
        "print(torch.cuda.is_available())\n",
        "\n",
        "Q12. What is the basic structure of a PyTorch neural network?\n",
        "\n",
        "Ans-A basic PyTorch neural network uses torch.nn.Module:\n",
        "\n",
        "import torch.nn as nn\n",
        "import torch.nn.functional as F\n",
        "\n",
        "class Net(nn.Module):\n",
        "    def __init__(self):\n",
        "        super(Net, self).__init__()\n",
        "        self.fc1 = nn.Linear(10, 50)\n",
        "        self.fc2 = nn.Linear(50, 1)\n",
        "\n",
        "    def forward(self, x):\n",
        "        x = F.relu(self.fc1(x))\n",
        "        return torch.sigmoid(self.fc2(x))\n",
        "\n",
        "Q13. What is the significance of tensors in PyTorch?\n",
        "\n",
        "Ans-Tensors are the core data structure in PyTorch (similar to NumPy arrays, but with GPU support).\n",
        "They enable:\n",
        "\n",
        "Efficient computation on CPU/GPU\n",
        "\n",
        "Gradient tracking for training\n",
        "\n",
        "Representation of inputs, weights, outputs\n",
        "\n",
        "Q14. What is the difference between torch.Tensor and torch.cuda.Tensor in PyTorch?\n",
        "\n",
        "Ans-torch.Tensor: Located on the CPU\n",
        "\n",
        "torch.cuda.Tensor: Located on the GPU, supports accelerated computation\n",
        "\n",
        "You can move a tensor to GPU using:\n",
        "\n",
        "tensor.cuda()\n",
        "\n",
        "Q15. What is the purpose of the torch.optim module in PyTorch?\n",
        "\n",
        "Ans-torch.optim provides optimization algorithms (e.g., SGD, Adam) to update model parameters based on the loss.\n",
        "\n",
        "Example:\n",
        "\n",
        "optimizer = torch.optim.Adam(model.parameters(), lr=0.001)\n",
        "\n",
        "Q16. What are some common activation functions used in neural networks?\n",
        "\n",
        "Ans-ReLU (Rectified Linear Unit): f(x) = max(0, x)\n",
        "\n",
        "Sigmoid: S-shaped, maps input to (0, 1)\n",
        "\n",
        "Tanh: Maps input to (-1, 1)\n",
        "\n",
        "Leaky ReLU\n",
        "\n",
        "Softmax: Converts scores to probabilities\n",
        "\n",
        "Q17. What is the difference between torch.nn.Module and torch.nn.Sequential in PyTorch?\n",
        "\n",
        "Ans-torch.nn.Module is the base class for all neural network modules in PyTorch. Any custom layer, network, or component with learnable parameters or a defined forward pass should inherit from torch.nn.Module. It provides core functionalities like parameter tracking, sub-module registration, and the forward method where the computation flow is defined.\n",
        "torch.nn.Sequential is a specific type of torch.nn.Module that acts as a container. It allows for the sequential stacking of other torch.nn.Module instances, where the output of one module automatically becomes the input to the next. This simplifies the creation of feed-forward networks with a clear, linear flow of data.\n",
        "\n",
        "Q18. How can you monitor training progress in TensorFlow 2.0?\n",
        "\n",
        "Ans-You can monitor training using:\n",
        "\n",
        "model.fit() history object\n",
        "\n",
        "TensorBoard with callback\n",
        "\n",
        "Custom callbacks for metrics/logging\n",
        "\n",
        "Q19. How does the Keras API fit into TensorFlow 2.0?\n",
        "\n",
        "Ans-Keras is fully integrated into TensorFlow 2.0 as tf.keras.\n",
        "Benefits:\n",
        "\n",
        "Easy model building with Sequential or functional API\n",
        "\n",
        "Built-in training/evaluation\n",
        "\n",
        "Custom layers/models using tf.keras.Model\n",
        "\n",
        "Q20. What is an example of a deep learning project that can be implemented using TensorFlow 2.0?\n",
        "\n",
        "Ans-Image Classification Project:\n",
        "\n",
        "Use CIFAR-10 or MNIST dataset\n",
        "\n",
        "Create CNN using tf.keras\n",
        "\n",
        "Train, evaluate, and visualize predictions\n",
        "example:\n",
        "\n",
        "\n",
        "\n",
        "        \n",
        "\n",
        "\n",
        "\n"
      ],
      "metadata": {
        "id": "ldtTgUdBzxdF"
      }
    },
    {
      "cell_type": "code",
      "source": [
        "model = tf.keras.Sequential([\n",
        "    tf.keras.layers.Conv2D(32, (3,3), activation='relu', input_shape=(28,28,1)),\n",
        "    tf.keras.layers.MaxPooling2D(2,2),\n",
        "    tf.keras.layers.Flatten(),\n",
        "    tf.keras.layers.Dense(64, activation='relu'),\n",
        "    tf.keras.layers.Dense(10, activation='softmax')\n",
        "])\n"
      ],
      "metadata": {
        "id": "aiCQiqSp4clF"
      },
      "execution_count": null,
      "outputs": []
    },
    {
      "cell_type": "markdown",
      "source": [
        "Q21. What is the main advantage of using pre-trained models in TensorFlow and PyTorch?\n",
        "\n",
        "Ans-Main advantage:\n",
        "Pre-trained models save time and resources by allowing you to reuse models trained on large datasets (like ImageNet). They are useful for:\n",
        "\n",
        "Transfer learning\n",
        "\n",
        "Better performance with small datasets\n",
        "\n",
        "Quick prototyping\n",
        "\n",
        "Examples:\n",
        "\n",
        "TensorFlow: tf.keras.applications\n",
        "\n",
        "PyTorch: torchvision.models\n",
        "\n"
      ],
      "metadata": {
        "id": "7yeNuOKJ4nGQ"
      }
    },
    {
      "cell_type": "code",
      "source": [
        "#22. How do you install and verify that TensorFlow 2.0 was installed successfully?\n",
        "#To install:\n",
        "\n",
        "#pip install tensorflow\n",
        "\n",
        "\n",
        "import tensorflow as tf\n",
        "print(tf.__version__)\n",
        "\n",
        "\n"
      ],
      "metadata": {
        "colab": {
          "base_uri": "https://localhost:8080/"
        },
        "id": "1BKj0Jn-47ML",
        "outputId": "b8a610d7-9742-4fbe-e2c5-62d9cdc1e5ad"
      },
      "execution_count": 7,
      "outputs": [
        {
          "output_type": "stream",
          "name": "stdout",
          "text": [
            "2.18.0\n"
          ]
        }
      ]
    },
    {
      "cell_type": "code",
      "source": [
        "#23. How can you define a simple function in TensorFlow 2.0 to perform addition?\n",
        "\n",
        "import tensorflow as tf\n",
        "\n",
        "@tf.function\n",
        "def add(a, b):\n",
        "    return a + b\n",
        "\n",
        "result = add(tf.constant(5), tf.constant(3))\n",
        "print(result.numpy())"
      ],
      "metadata": {
        "colab": {
          "base_uri": "https://localhost:8080/"
        },
        "id": "ioeU8-oV5t-P",
        "outputId": "d6a186c6-538c-4042-9760-c50dc2a0a3fe"
      },
      "execution_count": 9,
      "outputs": [
        {
          "output_type": "stream",
          "name": "stdout",
          "text": [
            "8\n"
          ]
        }
      ]
    },
    {
      "cell_type": "code",
      "source": [
        "# 24. How can you create a simple neural network in TensorFlow 2.0 with one hidden layer?\n",
        "\n",
        "import tensorflow as tf\n",
        "\n",
        "model = tf.keras.Sequential([\n",
        "    tf.keras.layers.Dense(16, activation='relu', input_shape=(10,)),\n",
        "    tf.keras.layers.Dense(1, activation='sigmoid')\n",
        "])\n",
        "model.compile(optimizer='adam', loss='binary_crossentropy', metrics=['accuracy'])\n"
      ],
      "metadata": {
        "colab": {
          "base_uri": "https://localhost:8080/"
        },
        "id": "nvCnuE_k6Ghl",
        "outputId": "d8ed5f0c-42b0-4f40-a5e5-52779a9a557a"
      },
      "execution_count": 10,
      "outputs": [
        {
          "output_type": "stream",
          "name": "stderr",
          "text": [
            "/usr/local/lib/python3.11/dist-packages/keras/src/layers/core/dense.py:87: UserWarning: Do not pass an `input_shape`/`input_dim` argument to a layer. When using Sequential models, prefer using an `Input(shape)` object as the first layer in the model instead.\n",
            "  super().__init__(activity_regularizer=activity_regularizer, **kwargs)\n"
          ]
        }
      ]
    },
    {
      "cell_type": "code",
      "source": [
        "# 25. How can you visualize the training progress using TensorFlow and Matplotlib?\n",
        "\n",
        "import matplotlib.pyplot as plt\n",
        "import numpy as np\n",
        "import tensorflow as tf\n",
        "\n",
        "# Generate some placeholder data for demonstration\n",
        "X_train = np.random.rand(100, 10) # 100 samples, 10 features\n",
        "y_train = np.random.randint(0, 2, 100) # 100 samples, binary labels\n",
        "\n",
        "# Assuming 'model' is defined in a previous cell (like the one for Q24)\n",
        "# If not, you'll need to define it here or ensure the previous cell is run\n",
        "\n",
        "# Define a simple model if it's not defined already (for standalone execution)\n",
        "try:\n",
        "    model.summary() # Check if model exists\n",
        "except NameError:\n",
        "    print(\"Model not found, defining a simple one for demonstration.\")\n",
        "    model = tf.keras.Sequential([\n",
        "        tf.keras.layers.Dense(16, activation='relu', input_shape=(10,)),\n",
        "        tf.keras.layers.Dense(1, activation='sigmoid')\n",
        "    ])\n",
        "    model.compile(optimizer='adam', loss='binary_crossentropy', metrics=['accuracy'])\n",
        "\n",
        "\n",
        "history = model.fit(X_train, y_train, epochs=10, verbose=0) # Set verbose to 0 to avoid printing progress for each epoch\n",
        "\n",
        "plt.plot(history.history['loss'])\n",
        "plt.xlabel('Epochs')\n",
        "plt.ylabel('Loss')\n",
        "plt.title('Training Loss')\n",
        "plt.show()"
      ],
      "metadata": {
        "colab": {
          "base_uri": "https://localhost:8080/",
          "height": 659
        },
        "id": "X11qapCV6TJW",
        "outputId": "34f35189-620d-454a-c63b-f98d944b69e7"
      },
      "execution_count": 12,
      "outputs": [
        {
          "output_type": "display_data",
          "data": {
            "text/plain": [
              "\u001b[1mModel: \"sequential\"\u001b[0m\n"
            ],
            "text/html": [
              "<pre style=\"white-space:pre;overflow-x:auto;line-height:normal;font-family:Menlo,'DejaVu Sans Mono',consolas,'Courier New',monospace\"><span style=\"font-weight: bold\">Model: \"sequential\"</span>\n",
              "</pre>\n"
            ]
          },
          "metadata": {}
        },
        {
          "output_type": "display_data",
          "data": {
            "text/plain": [
              "┏━━━━━━━━━━━━━━━━━━━━━━━━━━━━━━━━━┳━━━━━━━━━━━━━━━━━━━━━━━━┳━━━━━━━━━━━━━━━┓\n",
              "┃\u001b[1m \u001b[0m\u001b[1mLayer (type)                   \u001b[0m\u001b[1m \u001b[0m┃\u001b[1m \u001b[0m\u001b[1mOutput Shape          \u001b[0m\u001b[1m \u001b[0m┃\u001b[1m \u001b[0m\u001b[1m      Param #\u001b[0m\u001b[1m \u001b[0m┃\n",
              "┡━━━━━━━━━━━━━━━━━━━━━━━━━━━━━━━━━╇━━━━━━━━━━━━━━━━━━━━━━━━╇━━━━━━━━━━━━━━━┩\n",
              "│ dense (\u001b[38;5;33mDense\u001b[0m)                   │ (\u001b[38;5;45mNone\u001b[0m, \u001b[38;5;34m16\u001b[0m)             │           \u001b[38;5;34m176\u001b[0m │\n",
              "├─────────────────────────────────┼────────────────────────┼───────────────┤\n",
              "│ dense_1 (\u001b[38;5;33mDense\u001b[0m)                 │ (\u001b[38;5;45mNone\u001b[0m, \u001b[38;5;34m1\u001b[0m)              │            \u001b[38;5;34m17\u001b[0m │\n",
              "└─────────────────────────────────┴────────────────────────┴───────────────┘\n"
            ],
            "text/html": [
              "<pre style=\"white-space:pre;overflow-x:auto;line-height:normal;font-family:Menlo,'DejaVu Sans Mono',consolas,'Courier New',monospace\">┏━━━━━━━━━━━━━━━━━━━━━━━━━━━━━━━━━┳━━━━━━━━━━━━━━━━━━━━━━━━┳━━━━━━━━━━━━━━━┓\n",
              "┃<span style=\"font-weight: bold\"> Layer (type)                    </span>┃<span style=\"font-weight: bold\"> Output Shape           </span>┃<span style=\"font-weight: bold\">       Param # </span>┃\n",
              "┡━━━━━━━━━━━━━━━━━━━━━━━━━━━━━━━━━╇━━━━━━━━━━━━━━━━━━━━━━━━╇━━━━━━━━━━━━━━━┩\n",
              "│ dense (<span style=\"color: #0087ff; text-decoration-color: #0087ff\">Dense</span>)                   │ (<span style=\"color: #00d7ff; text-decoration-color: #00d7ff\">None</span>, <span style=\"color: #00af00; text-decoration-color: #00af00\">16</span>)             │           <span style=\"color: #00af00; text-decoration-color: #00af00\">176</span> │\n",
              "├─────────────────────────────────┼────────────────────────┼───────────────┤\n",
              "│ dense_1 (<span style=\"color: #0087ff; text-decoration-color: #0087ff\">Dense</span>)                 │ (<span style=\"color: #00d7ff; text-decoration-color: #00d7ff\">None</span>, <span style=\"color: #00af00; text-decoration-color: #00af00\">1</span>)              │            <span style=\"color: #00af00; text-decoration-color: #00af00\">17</span> │\n",
              "└─────────────────────────────────┴────────────────────────┴───────────────┘\n",
              "</pre>\n"
            ]
          },
          "metadata": {}
        },
        {
          "output_type": "display_data",
          "data": {
            "text/plain": [
              "\u001b[1m Total params: \u001b[0m\u001b[38;5;34m193\u001b[0m (772.00 B)\n"
            ],
            "text/html": [
              "<pre style=\"white-space:pre;overflow-x:auto;line-height:normal;font-family:Menlo,'DejaVu Sans Mono',consolas,'Courier New',monospace\"><span style=\"font-weight: bold\"> Total params: </span><span style=\"color: #00af00; text-decoration-color: #00af00\">193</span> (772.00 B)\n",
              "</pre>\n"
            ]
          },
          "metadata": {}
        },
        {
          "output_type": "display_data",
          "data": {
            "text/plain": [
              "\u001b[1m Trainable params: \u001b[0m\u001b[38;5;34m193\u001b[0m (772.00 B)\n"
            ],
            "text/html": [
              "<pre style=\"white-space:pre;overflow-x:auto;line-height:normal;font-family:Menlo,'DejaVu Sans Mono',consolas,'Courier New',monospace\"><span style=\"font-weight: bold\"> Trainable params: </span><span style=\"color: #00af00; text-decoration-color: #00af00\">193</span> (772.00 B)\n",
              "</pre>\n"
            ]
          },
          "metadata": {}
        },
        {
          "output_type": "display_data",
          "data": {
            "text/plain": [
              "\u001b[1m Non-trainable params: \u001b[0m\u001b[38;5;34m0\u001b[0m (0.00 B)\n"
            ],
            "text/html": [
              "<pre style=\"white-space:pre;overflow-x:auto;line-height:normal;font-family:Menlo,'DejaVu Sans Mono',consolas,'Courier New',monospace\"><span style=\"font-weight: bold\"> Non-trainable params: </span><span style=\"color: #00af00; text-decoration-color: #00af00\">0</span> (0.00 B)\n",
              "</pre>\n"
            ]
          },
          "metadata": {}
        },
        {
          "output_type": "display_data",
          "data": {
            "text/plain": [
              "<Figure size 640x480 with 1 Axes>"
            ],
            "image/png": "[encoded data removed]"
          },
          "metadata": {}
        }
      ]
    },
    {
      "cell_type": "code",
      "source": [
        "#26. How do you install PyTorch and verify the PyTorch installation?"
      ],
      "metadata": {
        "id": "wH12W17U68sZ"
      },
      "execution_count": null,
      "outputs": []
    },
    {
      "cell_type": "code",
      "metadata": {
        "colab": {
          "base_uri": "https://localhost:8080/"
        },
        "id": "58a08341",
        "outputId": "fccba11e-a241-4e5c-b2d1-985d0c0c9b3a"
      },
      "source": [
        "#26. How do you install PyTorch and verify the PyTorch installation?\n",
        "# To install PyTorch (CPU version):\n",
        "!pip install torch torchvision torchaudio"
      ],
      "execution_count": 2,
      "outputs": [
        {
          "output_type": "stream",
          "name": "stdout",
          "text": [
            "Requirement already satisfied: torch in /usr/local/lib/python3.11/dist-packages (2.6.0+cu124)\n",
            "Requirement already satisfied: torchvision in /usr/local/lib/python3.11/dist-packages (0.21.0+cu124)\n",
            "Requirement already satisfied: torchaudio in /usr/local/lib/python3.11/dist-packages (2.6.0+cu124)\n",
            "Requirement already satisfied: filelock in /usr/local/lib/python3.11/dist-packages (from torch) (3.18.0)\n",
            "Requirement already satisfied: typing-extensions>=4.10.0 in /usr/local/lib/python3.11/dist-packages (from torch) (4.14.0)\n",
            "Requirement already satisfied: networkx in /usr/local/lib/python3.11/dist-packages (from torch) (3.5)\n",
            "Requirement already satisfied: jinja2 in /usr/local/lib/python3.11/dist-packages (from torch) (3.1.6)\n",
            "Requirement already satisfied: fsspec in /usr/local/lib/python3.11/dist-packages (from torch) (2025.3.2)\n",
            "Requirement already satisfied: nvidia-cuda-nvrtc-cu12==12.4.127 in /usr/local/lib/python3.11/dist-packages (from torch) (12.4.127)\n",
            "Requirement already satisfied: nvidia-cuda-runtime-cu12==12.4.127 in /usr/local/lib/python3.11/dist-packages (from torch) (12.4.127)\n",
            "Requirement already satisfied: nvidia-cuda-cupti-cu12==12.4.127 in /usr/local/lib/python3.11/dist-packages (from torch) (12.4.127)\n",
            "Requirement already satisfied: nvidia-cudnn-cu12==9.1.0.70 in /usr/local/lib/python3.11/dist-packages (from torch) (9.1.0.70)\n",
            "Requirement already satisfied: nvidia-cublas-cu12==12.4.5.8 in /usr/local/lib/python3.11/dist-packages (from torch) (12.4.5.8)\n",
            "Requirement already satisfied: nvidia-cufft-cu12==11.2.1.3 in /usr/local/lib/python3.11/dist-packages (from torch) (11.2.1.3)\n",
            "Requirement already satisfied: nvidia-curand-cu12==10.3.5.147 in /usr/local/lib/python3.11/dist-packages (from torch) (10.3.5.147)\n",
            "Requirement already satisfied: nvidia-cusolver-cu12==11.6.1.9 in /usr/local/lib/python3.11/dist-packages (from torch) (11.6.1.9)\n",
            "Requirement already satisfied: nvidia-cusparse-cu12==12.3.1.170 in /usr/local/lib/python3.11/dist-packages (from torch) (12.3.1.170)\n",
            "Requirement already satisfied: nvidia-cusparselt-cu12==0.6.2 in /usr/local/lib/python3.11/dist-packages (from torch) (0.6.2)\n",
            "Requirement already satisfied: nvidia-nccl-cu12==2.21.5 in /usr/local/lib/python3.11/dist-packages (from torch) (2.21.5)\n",
            "Requirement already satisfied: nvidia-nvtx-cu12==12.4.127 in /usr/local/lib/python3.11/dist-packages (from torch) (12.4.127)\n",
            "Requirement already satisfied: nvidia-nvjitlink-cu12==12.4.127 in /usr/local/lib/python3.11/dist-packages (from torch) (12.4.127)\n",
            "Requirement already satisfied: triton==3.2.0 in /usr/local/lib/python3.11/dist-packages (from torch) (3.2.0)\n",
            "Requirement already satisfied: sympy==1.13.1 in /usr/local/lib/python3.11/dist-packages (from torch) (1.13.1)\n",
            "Requirement already satisfied: mpmath<1.4,>=1.1.0 in /usr/local/lib/python3.11/dist-packages (from sympy==1.13.1->torch) (1.3.0)\n",
            "Requirement already satisfied: numpy in /usr/local/lib/python3.11/dist-packages (from torchvision) (2.0.2)\n",
            "Requirement already satisfied: pillow!=8.3.*,>=5.3.0 in /usr/local/lib/python3.11/dist-packages (from torchvision) (11.2.1)\n",
            "Requirement already satisfied: MarkupSafe>=2.0 in /usr/local/lib/python3.11/dist-packages (from jinja2->torch) (3.0.2)\n"
          ]
        }
      ]
    },
    {
      "cell_type": "code",
      "metadata": {
        "colab": {
          "base_uri": "https://localhost:8080/"
        },
        "id": "43e2896c",
        "outputId": "521b0916-0432-4dff-dbb7-2fa63e1cd6fe"
      },
      "source": [
        "# To verify installation:\n",
        "import torch\n",
        "print(torch.__version__)\n",
        "print(torch.cuda.is_available())"
      ],
      "execution_count": 1,
      "outputs": [
        {
          "output_type": "stream",
          "name": "stdout",
          "text": [
            "2.6.0+cu124\n",
            "False\n"
          ]
        }
      ]
    },
    {
      "cell_type": "code",
      "source": [
        "#27. How do you create a simple neural network in PyTorch?\n",
        "\n",
        "import torch.nn as nn\n",
        "\n",
        "class Net(nn.Module):\n",
        "    def __init__(self):\n",
        "        super(Net, self).__init__()\n",
        "        self.fc1 = nn.Linear(10, 16)\n",
        "        self.fc2 = nn.Linear(16, 1)\n",
        "\n",
        "    def forward(self, x):\n",
        "        x = torch.relu(self.fc1(x))\n",
        "        return torch.sigmoid(self.fc2(x))\n"
      ],
      "metadata": {
        "id": "652lQx7j8Dgc"
      },
      "execution_count": 3,
      "outputs": []
    },
    {
      "cell_type": "code",
      "source": [
        "#28. How do you define a loss function and optimizer in PyTorch?\n",
        "\n",
        "import torch.optim as optim\n",
        "import torch.nn as nn # Import nn module\n",
        "\n",
        "# Assuming Net class from cell 652lQx7j8Dgc has been executed\n",
        "# Create an instance of the model\n",
        "model = Net()\n",
        "\n",
        "loss_fn = nn.BCELoss()  # Binary Cross-Entropy Loss\n",
        "optimizer = optim.Adam(model.parameters(), lr=0.001)"
      ],
      "metadata": {
        "id": "znzhWP8_8NEY"
      },
      "execution_count": 5,
      "outputs": []
    },
    {
      "cell_type": "code",
      "source": [
        "#29. How do you implement a custom loss function in PyTorch?\n",
        "\n",
        "def custom_loss(output, target):\n",
        "    return torch.mean((output - target) ** 2)  # MSE as an example\n",
        "class CustomLoss(nn.Module):\n",
        "    def forward(self, output, target):\n",
        "        return torch.mean((output - target) ** 2)\n"
      ],
      "metadata": {
        "id": "lZu0rDWo8fUz"
      },
      "execution_count": 6,
      "outputs": []
    },
    {
      "cell_type": "code",
      "metadata": {
        "colab": {
          "base_uri": "https://localhost:8080/",
          "height": 363
        },
        "id": "35da3930",
        "outputId": "1ce7b0f4-d71c-40b8-8feb-6b7ba1f172ae"
      },
      "source": [
        "# 30 Saving and loading a TensorFlow model\n",
        "\n",
        "import tensorflow as tf\n",
        "import numpy as np\n",
        "\n",
        "# Ensure a TensorFlow Keras model is defined (using the one from Q24 or Q25)\n",
        "try:\n",
        "    model_tf = tf.keras.Sequential([\n",
        "        tf.keras.layers.Dense(16, activation='relu', input_shape=(10,)),\n",
        "        tf.keras.layers.Dense(1, activation='sigmoid')\n",
        "    ])\n",
        "    model_tf.compile(optimizer='adam', loss='binary_crossentropy', metrics=['accuracy'])\n",
        "except Exception as e:\n",
        "    print(f\"Could not define TensorFlow model: {e}\")\n",
        "\n",
        "\n",
        "# Define a path to save the TensorFlow model (using the .keras extension)\n",
        "tf_model_save_path = '/tmp/my_tensorflow_model.keras'\n",
        "\n",
        "# Save the TensorFlow model\n",
        "if 'model_tf' in locals() and isinstance(model_tf, tf.keras.Model):\n",
        "    model_tf.save(tf_model_save_path)\n",
        "    print(f\"TensorFlow Model saved to: {tf_model_save_path}\")\n",
        "else:\n",
        "    print(\"TensorFlow model 'model_tf' not defined or is not a Keras Model.\")\n",
        "\n",
        "# Load the TensorFlow model\n",
        "try:\n",
        "    loaded_model_tf = tf.keras.models.load_model(tf_model_save_path)\n",
        "    print(f\"\\nTensorFlow Model loaded from: {tf_model_save_path}\")\n",
        "    loaded_model_tf.summary()\n",
        "except Exception as e:\n",
        "    print(f\"\\nCould not load TensorFlow model: {e}\")"
      ],
      "execution_count": 13,
      "outputs": [
        {
          "output_type": "stream",
          "name": "stdout",
          "text": [
            "TensorFlow Model saved to: /tmp/my_tensorflow_model.keras\n",
            "\n",
            "TensorFlow Model loaded from: /tmp/my_tensorflow_model.keras\n"
          ]
        },
        {
          "output_type": "stream",
          "name": "stderr",
          "text": [
            "/usr/local/lib/python3.11/dist-packages/keras/src/layers/core/dense.py:87: UserWarning: Do not pass an `input_shape`/`input_dim` argument to a layer. When using Sequential models, prefer using an `Input(shape)` object as the first layer in the model instead.\n",
            "  super().__init__(activity_regularizer=activity_regularizer, **kwargs)\n",
            "/usr/local/lib/python3.11/dist-packages/keras/src/saving/saving_lib.py:757: UserWarning: Skipping variable loading for optimizer 'adam', because it has 10 variables whereas the saved optimizer has 2 variables. \n",
            "  saveable.load_own_variables(weights_store.get(inner_path))\n"
          ]
        },
        {
          "output_type": "display_data",
          "data": {
            "text/plain": [
              "\u001b[1mModel: \"sequential_1\"\u001b[0m\n"
            ],
            "text/html": [
              "<pre style=\"white-space:pre;overflow-x:auto;line-height:normal;font-family:Menlo,'DejaVu Sans Mono',consolas,'Courier New',monospace\"><span style=\"font-weight: bold\">Model: \"sequential_1\"</span>\n",
              "</pre>\n"
            ]
          },
          "metadata": {}
        },
        {
          "output_type": "display_data",
          "data": {
            "text/plain": [
              "┏━━━━━━━━━━━━━━━━━━━━━━━━━━━━━━━━━┳━━━━━━━━━━━━━━━━━━━━━━━━┳━━━━━━━━━━━━━━━┓\n",
              "┃\u001b[1m \u001b[0m\u001b[1mLayer (type)                   \u001b[0m\u001b[1m \u001b[0m┃\u001b[1m \u001b[0m\u001b[1mOutput Shape          \u001b[0m\u001b[1m \u001b[0m┃\u001b[1m \u001b[0m\u001b[1m      Param #\u001b[0m\u001b[1m \u001b[0m┃\n",
              "┡━━━━━━━━━━━━━━━━━━━━━━━━━━━━━━━━━╇━━━━━━━━━━━━━━━━━━━━━━━━╇━━━━━━━━━━━━━━━┩\n",
              "│ dense_2 (\u001b[38;5;33mDense\u001b[0m)                 │ (\u001b[38;5;45mNone\u001b[0m, \u001b[38;5;34m16\u001b[0m)             │           \u001b[38;5;34m176\u001b[0m │\n",
              "├─────────────────────────────────┼────────────────────────┼───────────────┤\n",
              "│ dense_3 (\u001b[38;5;33mDense\u001b[0m)                 │ (\u001b[38;5;45mNone\u001b[0m, \u001b[38;5;34m1\u001b[0m)              │            \u001b[38;5;34m17\u001b[0m │\n",
              "└─────────────────────────────────┴────────────────────────┴───────────────┘\n"
            ],
            "text/html": [
              "<pre style=\"white-space:pre;overflow-x:auto;line-height:normal;font-family:Menlo,'DejaVu Sans Mono',consolas,'Courier New',monospace\">┏━━━━━━━━━━━━━━━━━━━━━━━━━━━━━━━━━┳━━━━━━━━━━━━━━━━━━━━━━━━┳━━━━━━━━━━━━━━━┓\n",
              "┃<span style=\"font-weight: bold\"> Layer (type)                    </span>┃<span style=\"font-weight: bold\"> Output Shape           </span>┃<span style=\"font-weight: bold\">       Param # </span>┃\n",
              "┡━━━━━━━━━━━━━━━━━━━━━━━━━━━━━━━━━╇━━━━━━━━━━━━━━━━━━━━━━━━╇━━━━━━━━━━━━━━━┩\n",
              "│ dense_2 (<span style=\"color: #0087ff; text-decoration-color: #0087ff\">Dense</span>)                 │ (<span style=\"color: #00d7ff; text-decoration-color: #00d7ff\">None</span>, <span style=\"color: #00af00; text-decoration-color: #00af00\">16</span>)             │           <span style=\"color: #00af00; text-decoration-color: #00af00\">176</span> │\n",
              "├─────────────────────────────────┼────────────────────────┼───────────────┤\n",
              "│ dense_3 (<span style=\"color: #0087ff; text-decoration-color: #0087ff\">Dense</span>)                 │ (<span style=\"color: #00d7ff; text-decoration-color: #00d7ff\">None</span>, <span style=\"color: #00af00; text-decoration-color: #00af00\">1</span>)              │            <span style=\"color: #00af00; text-decoration-color: #00af00\">17</span> │\n",
              "└─────────────────────────────────┴────────────────────────┴───────────────┘\n",
              "</pre>\n"
            ]
          },
          "metadata": {}
        },
        {
          "output_type": "display_data",
          "data": {
            "text/plain": [
              "\u001b[1m Total params: \u001b[0m\u001b[38;5;34m581\u001b[0m (2.27 KB)\n"
            ],
            "text/html": [
              "<pre style=\"white-space:pre;overflow-x:auto;line-height:normal;font-family:Menlo,'DejaVu Sans Mono',consolas,'Courier New',monospace\"><span style=\"font-weight: bold\"> Total params: </span><span style=\"color: #00af00; text-decoration-color: #00af00\">581</span> (2.27 KB)\n",
              "</pre>\n"
            ]
          },
          "metadata": {}
        },
        {
          "output_type": "display_data",
          "data": {
            "text/plain": [
              "\u001b[1m Trainable params: \u001b[0m\u001b[38;5;34m193\u001b[0m (772.00 B)\n"
            ],
            "text/html": [
              "<pre style=\"white-space:pre;overflow-x:auto;line-height:normal;font-family:Menlo,'DejaVu Sans Mono',consolas,'Courier New',monospace\"><span style=\"font-weight: bold\"> Trainable params: </span><span style=\"color: #00af00; text-decoration-color: #00af00\">193</span> (772.00 B)\n",
              "</pre>\n"
            ]
          },
          "metadata": {}
        },
        {
          "output_type": "display_data",
          "data": {
            "text/plain": [
              "\u001b[1m Non-trainable params: \u001b[0m\u001b[38;5;34m0\u001b[0m (0.00 B)\n"
            ],
            "text/html": [
              "<pre style=\"white-space:pre;overflow-x:auto;line-height:normal;font-family:Menlo,'DejaVu Sans Mono',consolas,'Courier New',monospace\"><span style=\"font-weight: bold\"> Non-trainable params: </span><span style=\"color: #00af00; text-decoration-color: #00af00\">0</span> (0.00 B)\n",
              "</pre>\n"
            ]
          },
          "metadata": {}
        },
        {
          "output_type": "display_data",
          "data": {
            "text/plain": [
              "\u001b[1m Optimizer params: \u001b[0m\u001b[38;5;34m388\u001b[0m (1.52 KB)\n"
            ],
            "text/html": [
              "<pre style=\"white-space:pre;overflow-x:auto;line-height:normal;font-family:Menlo,'DejaVu Sans Mono',consolas,'Courier New',monospace\"><span style=\"font-weight: bold\"> Optimizer params: </span><span style=\"color: #00af00; text-decoration-color: #00af00\">388</span> (1.52 KB)\n",
              "</pre>\n"
            ]
          },
          "metadata": {}
        }
      ]
    },
    {
      "cell_type": "code",
      "metadata": {
        "colab": {
          "base_uri": "https://localhost:8080/"
        },
        "id": "49e4326f",
        "outputId": "51cc33d0-127b-44d4-ccaa-c43969d32adf"
      },
      "source": [
        "# Saving and loading a PyTorch model\n",
        "\n",
        "import torch\n",
        "import torch.nn as nn\n",
        "import torch.optim as optim\n",
        "\n",
        "# Ensure the PyTorch Net class is defined and instantiated (from Q27 and Q28)\n",
        "# Assuming Net class from cell 652lQx7j8Dgc has been executed\n",
        "# Assuming model (PyTorch Net instance) from cell znzhWP8_8NEY has been created\n",
        "\n",
        "# Define a path to save the PyTorch model\n",
        "torch_model_save_path = '/tmp/my_pytorch_model.pth'\n",
        "\n",
        "# Save the PyTorch model's state dictionary\n",
        "if 'model' in locals() and isinstance(model, nn.Module):\n",
        "    torch.save(model.state_dict(), torch_model_save_path)\n",
        "    print(f\"PyTorch Model state dictionary saved to: {torch_model_save_path}\")\n",
        "else:\n",
        "     print(\"PyTorch model 'model' not defined or is not an nn.Module.\")\n",
        "\n",
        "\n",
        "# Load the PyTorch model\n",
        "# You need to instantiate the model architecture first before loading the state dictionary\n",
        "try:\n",
        "    # Assuming the Net class is available\n",
        "    loaded_model_torch = Net()\n",
        "    loaded_model_torch.load_state_dict(torch.load(torch_model_save_path))\n",
        "    print(f\"\\nPyTorch Model state dictionary loaded from: {torch_model_save_path}\")\n",
        "\n",
        "    # Set the model to evaluation mode if you are going to use it for inference\n",
        "    loaded_model_torch.eval()\n",
        "\n",
        "    # You can now use loaded_model_torch for inference\n",
        "    # For example:\n",
        "    # dummy_data_torch = torch.randn(1, 10)\n",
        "    # prediction_torch = loaded_model_torch(dummy_data_torch)\n",
        "    # print(f\"Prediction using loaded PyTorch model: {prediction_torch}\")\n",
        "\n",
        "except FileNotFoundError:\n",
        "    print(f\"\\nError: PyTorch model file not found at {torch_model_save_path}\")\n",
        "except Exception as e:\n",
        "    print(f\"\\nCould not load PyTorch model: {e}\")"
      ],
      "execution_count": 12,
      "outputs": [
        {
          "output_type": "stream",
          "name": "stdout",
          "text": [
            "PyTorch Model state dictionary saved to: /tmp/my_pytorch_model.pth\n",
            "\n",
            "PyTorch Model state dictionary loaded from: /tmp/my_pytorch_model.pth\n"
          ]
        }
      ]
    }
  ]
}